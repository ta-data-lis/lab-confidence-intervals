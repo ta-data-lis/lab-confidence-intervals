{
 "cells": [
  {
   "cell_type": "markdown",
   "metadata": {},
   "source": [
    "# Confidence Intervals"
   ]
  },
  {
   "cell_type": "code",
   "execution_count": 1,
   "metadata": {},
   "outputs": [],
   "source": [
    "# Libraries\n",
    "import pandas as pd\n",
    "import numpy as np\n",
    "import scipy.stats as st"
   ]
  },
  {
   "cell_type": "markdown",
   "metadata": {},
   "source": [
    "## Challenge 1\n",
    "We want to estimate the average size of the men of a country with a confidence level of 80%. Assuming that the standard deviation of the sizes in the population is 4, get the confidence interval with a sample of men selected randomly, whose heights are:\n",
    "\n",
    "````\n",
    "heights = [167, 167, 168, 168, 168, 169, 171, 172, 173, 175, 175, 175, 177, 182, 195]\n",
    "````\n",
    "\n",
    "**Hint**: function `stats.norm.interval` from `scipy` can help you get through this exercise. "
   ]
  },
  {
   "cell_type": "code",
   "execution_count": 24,
   "metadata": {},
   "outputs": [
    {
     "data": {
      "text/plain": [
       "(172.14308590115726, 174.79024743217607)"
      ]
     },
     "execution_count": 24,
     "metadata": {},
     "output_type": "execute_result"
    }
   ],
   "source": [
    "# your code here\n",
    "\n",
    "heights = pd.DataFrame([167, 167, 168, 168, 168, 169, 171, 172, 173, 175, 175, 175, 177, 182, 195], columns=['heights'])\n",
    "\n",
    "heights  # Sample\n",
    "mean_ = heights['heights'].mean()  #Sample mean\n",
    "s = 4  #Sample STD\n",
    "n = len(heights)  #Sample lenght\n",
    "\n",
    "st.norm.interval(0.80, loc=mean_, scale=s/np.sqrt(n))"
   ]
  },
  {
   "cell_type": "markdown",
   "metadata": {},
   "source": [
    "## Challenge 2 \n",
    "In a sample of 105 shops selected randomly from an area, we note that 27 of them have had losses in this month. Get an interval for the proportion of businesses in the area with losses to a confidence level of 80% and a confidence level of 90%.\n",
    "\n",
    "**Hint**: function `stats.norm.interval` from `scipy` can help you get through this exercise. "
   ]
  },
  {
   "cell_type": "code",
   "execution_count": 22,
   "metadata": {},
   "outputs": [
    {
     "name": "stdout",
     "output_type": "stream",
     "text": [
      "(0.20221921861951714, 0.3120664956661971)\n",
      "(0.18664913027350835, 0.32763658401220586)\n"
     ]
    }
   ],
   "source": [
    "# your code here\n",
    "shops = []\n",
    "count = 0\n",
    "\n",
    "for i in range(105):\n",
    "    if count < 27:\n",
    "        shops.append(1)  #Profit\n",
    "        count += 1\n",
    "    else:\n",
    "        shops.append(0)  #Loss\n",
    "\n",
    "shops = pd.DataFrame(shops, columns=['shops'])\n",
    "\n",
    "mean_ = shops['shops'].mean()\n",
    "s = shops['shops'].std()\n",
    "n = len(shops)\n",
    "\n",
    "print(st.norm.interval(0.80, loc=mean_, scale=s/np.sqrt(n)))\n",
    "print(st.norm.interval(0.90, loc=mean_, scale=s/np.sqrt(n)))"
   ]
  },
  {
   "cell_type": "markdown",
   "metadata": {},
   "source": [
    "## Bonus Challenge\n",
    "The error level or sampling error for the first challenge is given by the following expression:\n",
    "$$Error = z_{\\frac{\\alpha}{2}}\\frac{\\sigma}{\\sqrt n}$$\n",
    "Where z represents the value for N(0,1)\n",
    "\n",
    "\n",
    "Suppose that with the previous data of challenge 1, and with a confidence level of\n",
    "99% (that is, almost certainly) we want to estimate the average population size, so that the error level committed is not greater than half a centimeter.\n",
    "\n",
    "#### 1.- Determine what size the selected sample of men should be."
   ]
  },
  {
   "cell_type": "code",
   "execution_count": 37,
   "metadata": {},
   "outputs": [
    {
     "data": {
      "text/plain": [
       "424.63338246535767"
      ]
     },
     "execution_count": 37,
     "metadata": {},
     "output_type": "execute_result"
    }
   ],
   "source": [
    "# your code here\n",
    "def getz(confidence):\n",
    "    \"\"\"Required: import scipy.stats as st\"\"\"\n",
    "    return st.norm.ppf(1-((1-confidence)/2))\n",
    "\n",
    "z = getz(0.99)   # 2.5758293035489004\n",
    "e = 0.5          # Error --> 0.5 cm\n",
    "s = 4            # Standard deviation\n",
    "\n",
    "n = ((z*s)/e)**2\n",
    "n"
   ]
  },
  {
   "cell_type": "markdown",
   "metadata": {},
   "source": [
    "#### 2.- For the second challenge, we have the following error:\n",
    "$$ Error = z_{\\frac{\\alpha}{2}}\\sqrt{\\frac{p\\times q}{n}} $$\n",
    "#### Determine the sample size required to not exceed an error of 1% with a confidence of 80%."
   ]
  },
  {
   "cell_type": "code",
   "execution_count": 54,
   "metadata": {},
   "outputs": [
    {
     "data": {
      "text/plain": [
       "3137.27031138822"
      ]
     },
     "execution_count": 54,
     "metadata": {},
     "output_type": "execute_result"
    }
   ],
   "source": [
    "# your code here\n",
    "z = getz(0.8)\n",
    "e = 0.01\n",
    "p = 27/105\n",
    "q = 1-p\n",
    "\n",
    "n = ((e/z)**2)/(p*q)\n",
    "n\n",
    "\n",
    "n = (p*q)/((e**2)/(z**2))\n",
    "n"
   ]
  },
  {
   "cell_type": "markdown",
   "metadata": {},
   "source": [
    "## Bonus Challenge\n",
    "\n",
    "Let's consider the following problem:\n",
    "\n",
    "Build a confidence interval of 94% for the real difference between the durations of two brands of spotlights, if a sample of 40 spotlights taken randomly from the first mark gave an average duration of 418 hours, and a sample of 50 bulbs of another brand gave a duration average of 402 hours. The standard deviations of the two\n",
    "populations are 26 hours and 22 hours, respectively.\n",
    "\n",
    "Sometimes, we will be interested in the difference of two different groups of random variables. We can also build a confidence interval for that! We have some different cases regarding the variance but for this specific case (the variance are different and known), we have that:\n",
    "\n",
    "$$\\overline{X} - \\overline{Y}  \\sim N(\\mu_{X} - \\mu_{Y} , \\sqrt{\\frac{\\sigma_{X}^2}{n_X}+\\frac{\\sigma_{Y}^2}{n_Y}})$$\n",
    "\n",
    "Solve the problem with this information."
   ]
  },
  {
   "cell_type": "code",
   "execution_count": 60,
   "metadata": {},
   "outputs": [
    {
     "name": "stdout",
     "output_type": "stream",
     "text": [
      "N(16, 4.382299106011073)\n"
     ]
    }
   ],
   "source": [
    "# your code here\n",
    "\n",
    "#1 Solving the ecuation\n",
    "\n",
    "muxy = 418 - 402\n",
    "stdxy = np.sqrt((26**2/40)/(22*2/50))\n",
    "\n",
    "print(f'N({muxy}, {stdxy})')"
   ]
  },
  {
   "cell_type": "code",
   "execution_count": 61,
   "metadata": {},
   "outputs": [
    {
     "data": {
      "text/plain": [
       "(15.131195820087717, 16.86880417991228)"
      ]
     },
     "execution_count": 61,
     "metadata": {},
     "output_type": "execute_result"
    }
   ],
   "source": [
    "#2 Building the confidence interval\n",
    "\n",
    "muxy  #Sample mean\n",
    "stdxy  #Sample STD\n",
    "n = 40+50 #Sample lenght\n",
    "\n",
    "st.norm.interval(0.94, loc=muxy, scale=stdxy/np.sqrt(n))"
   ]
  }
 ],
 "metadata": {
  "kernelspec": {
   "display_name": "Python 3.9.12 ('ironhack')",
   "language": "python",
   "name": "python3"
  },
  "language_info": {
   "codemirror_mode": {
    "name": "ipython",
    "version": 3
   },
   "file_extension": ".py",
   "mimetype": "text/x-python",
   "name": "python",
   "nbconvert_exporter": "python",
   "pygments_lexer": "ipython3",
   "version": "3.9.12"
  },
  "vscode": {
   "interpreter": {
    "hash": "0094f863879e23567bc7f1203464ab0e17c9a144de34e46277031dbb63b00f13"
   }
  }
 },
 "nbformat": 4,
 "nbformat_minor": 2
}
