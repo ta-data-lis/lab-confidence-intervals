{
 "cells": [
  {
   "cell_type": "markdown",
   "metadata": {},
   "source": [
    "# Confidence Intervals"
   ]
  },
  {
   "cell_type": "code",
   "execution_count": 1,
   "metadata": {},
   "outputs": [],
   "source": [
    "# Libraries\n",
    "import pandas as pd\n",
    "import numpy as np\n",
    "import scipy.stats as st"
   ]
  },
  {
   "cell_type": "markdown",
   "metadata": {},
   "source": [
    "## Challenge 1\n",
    "We want to estimate the average size of the men of a country with a confidence level of 80%. Assuming that the standard deviation of the sizes in the population is 4, get the confidence interval with a sample of men selected randomly, whose heights are:\n",
    "\n",
    "````\n",
    "heights = [167, 167, 168, 168, 168, 169, 171, 172, 173, 175, 175, 175, 177, 182, 195]\n",
    "````\n",
    "\n",
    "**Hint**: function `stats.norm.interval` from `scipy` can help you get through this exercise. "
   ]
  },
  {
   "cell_type": "code",
   "execution_count": 68,
   "metadata": {},
   "outputs": [
    {
     "name": "stdout",
     "output_type": "stream",
     "text": [
      "Confidence interval of 80.0% is (172.14308590115726, 174.79024743217607).\n"
     ]
    }
   ],
   "source": [
    "# your code here\n",
    "heights = [167, 167, 168, 168, 168, 169, 171, 172, 173, 175, 175, 175, 177, 182, 195]\n",
    "std_pop = 4\n",
    "conf_level = 0.8\n",
    "\n",
    "n = len(heights)\n",
    "mean = sum(heights)/n\n",
    "\n",
    "#use st.norm.interval because std_pop is known: \n",
    "print(f\"Confidence interval of {conf_level*100}% is {st.norm.interval(conf_level, loc = mean, scale = std_pop/np.sqrt(n)) }.\")"
   ]
  },
  {
   "cell_type": "markdown",
   "metadata": {},
   "source": [
    "## Challenge 2 \n",
    "In a sample of 105 shops selected randomly from an area, we note that 27 of them have had losses in this month. Get an interval for the proportion of businesses in the area with losses to a confidence level of 80% and a confidence level of 90%.\n",
    "\n",
    "**Hint**: function `stats.norm.interval` from `scipy` can help you get through this exercise. "
   ]
  },
  {
   "cell_type": "code",
   "execution_count": 70,
   "metadata": {},
   "outputs": [
    {
     "name": "stdout",
     "output_type": "stream",
     "text": [
      "Mean: 0.2571428571428571 , Std: 0.4391550328268398\n",
      "Confidence interval of 80.0% is (0.20186807931327289, 0.31241763497244135).\n",
      "With a confidence of 80.0%, the proportion of businesses with losses is between 20.19 and 31.24.\n",
      "\n",
      "Confidence interval of 90.0% is (0.18601553842657947, 0.3282701758591347).\n",
      "With a confidence of 90.0%, the proportion of businesses with losses is between 18.6 and 32.83.\n"
     ]
    }
   ],
   "source": [
    "# your code here\n",
    "n = 105\n",
    "n_losses = 27\n",
    "shop_losses = [True if shop< 27 else False for shop in range(n)]\n",
    "data = pd.DataFrame(shop_losses, columns=[\"loss\"])\n",
    "\n",
    "mean = data[\"loss\"].mean()\n",
    "std = data[\"loss\"].std(ddof=1)\n",
    "print(\"Mean:\",mean, \", Std:\", std)\n",
    "\n",
    "conf_level = 0.8\n",
    "#use st.t.interval because std_pop is not known: \n",
    "\n",
    "ci = st.t.interval(conf_level, n-1, loc = mean, scale = std/np.sqrt(n))\n",
    "print(f\"Confidence interval of {conf_level*100}% is {ci}.\")\n",
    "print(f\"With a confidence of {conf_level*100}%, the proportion of businesses with losses is between {round(ci[0]*100,2)} and {round(ci[1]*100,2)}.\\n\")\n",
    "\n",
    "conf_level = 0.9\n",
    "ci = st.t.interval(conf_level, n-1, loc = mean, scale = std/np.sqrt(n))\n",
    "print(f\"Confidence interval of {conf_level*100}% is {ci}.\")\n",
    "print(f\"With a confidence of {conf_level*100}%, the proportion of businesses with losses is between {round(ci[0]*100,2)} and {round(ci[1]*100,2)}.\")\n"
   ]
  },
  {
   "cell_type": "markdown",
   "metadata": {},
   "source": [
    "## Bonus Challenge\n",
    "The error level or sampling error for the first challenge is given by the following expression:\n",
    "$$Error = z_{\\frac{\\alpha}{2}}\\frac{\\sigma}{\\sqrt n}$$\n",
    "Where z represents the value for N(0,1)\n",
    "\n",
    "\n",
    "Suppose that with the previous data of challenge 1, and with a confidence level of\n",
    "99% (that is, almost certainly) we want to estimate the average population size, so that the error level committed is not greater than half a centimeter.\n",
    "\n",
    "#### 1.- Determine what size the selected sample of men should be."
   ]
  },
  {
   "cell_type": "code",
   "execution_count": 50,
   "metadata": {},
   "outputs": [
    {
     "name": "stdout",
     "output_type": "stream",
     "text": [
      "2.5758293035489004\n"
     ]
    },
    {
     "data": {
      "text/plain": [
       "424.63338246535767"
      ]
     },
     "execution_count": 50,
     "metadata": {},
     "output_type": "execute_result"
    }
   ],
   "source": [
    "# your code here\n",
    "error = 0.5\n",
    "#n = (z*sigma/error)**2\n",
    "\n",
    "#number of samples needed to have 99% confidence to get interval of max error = 0.5 or less\n",
    "def find_n(t,s,error):\n",
    "  return (t*s/error)**2\n",
    "\n",
    "s = 4 #population std\n",
    "\n",
    "t0 = st.norm.ppf(1-((1-0.99)/2))\n",
    "print(t0)\n",
    "n_temp = find_n(t0,s,error)\n",
    "n_temp"
   ]
  },
  {
   "cell_type": "code",
   "execution_count": 51,
   "metadata": {},
   "outputs": [
    {
     "name": "stdout",
     "output_type": "stream",
     "text": [
      "2.587484358051759\n"
     ]
    },
    {
     "data": {
      "text/plain": [
       "428.48481940240146"
      ]
     },
     "execution_count": 51,
     "metadata": {},
     "output_type": "execute_result"
    }
   ],
   "source": [
    "t1 = st.t.ppf(1-((1-0.99)/2),n_temp-1)\n",
    "print(t1)\n",
    "n_temp = find_n(t1,s,error)\n",
    "n_temp"
   ]
  },
  {
   "cell_type": "code",
   "execution_count": 52,
   "metadata": {},
   "outputs": [
    {
     "name": "stdout",
     "output_type": "stream",
     "text": [
      "2.5873789091216275\n"
     ]
    },
    {
     "data": {
      "text/plain": [
       "428.4498956395151"
      ]
     },
     "execution_count": 52,
     "metadata": {},
     "output_type": "execute_result"
    }
   ],
   "source": [
    "t2 = st.t.ppf(1-((1-0.99)/2),n_temp-1)\n",
    "print(t2)\n",
    "n_temp = find_n(t2,s,error)\n",
    "n_temp"
   ]
  },
  {
   "cell_type": "code",
   "execution_count": 53,
   "metadata": {},
   "outputs": [
    {
     "name": "stdout",
     "output_type": "stream",
     "text": [
      "2.5873798567300437\n"
     ]
    },
    {
     "data": {
      "text/plain": [
       "428.4502094727924"
      ]
     },
     "execution_count": 53,
     "metadata": {},
     "output_type": "execute_result"
    }
   ],
   "source": [
    "t3 = st.t.ppf(1-((1-0.99)/2),n_temp-1)\n",
    "print(t3)\n",
    "n_temp = find_n(t3,s,error)\n",
    "n_temp"
   ]
  },
  {
   "cell_type": "code",
   "execution_count": 47,
   "metadata": {},
   "outputs": [],
   "source": [
    "#Done, not much changing any more: \n",
    "# n should be >= 429, if we want the error only at 0.5 cm and a confidence level of 99%."
   ]
  },
  {
   "cell_type": "markdown",
   "metadata": {},
   "source": [
    "#### 2.- For the second challenge, we have the following error:\n",
    "$$ Error = z_{\\frac{\\alpha}{2}}\\sqrt{\\frac{p\\times q}{n}} $$\n",
    "#### Determine the sample size required to not exceed an error of 1% with a confidence of 80%."
   ]
  },
  {
   "cell_type": "code",
   "execution_count": 64,
   "metadata": {},
   "outputs": [
    {
     "name": "stdout",
     "output_type": "stream",
     "text": [
      "1.2815515655446004\n"
     ]
    },
    {
     "data": {
      "text/plain": [
       "3137.2703113882194"
      ]
     },
     "execution_count": 64,
     "metadata": {},
     "output_type": "execute_result"
    }
   ],
   "source": [
    "# your code here\n",
    "error = 0.01\n",
    "\n",
    "#n = (p*q) / (error/z)**2 \n",
    "\n",
    "#number of samples needed to have 99% confidence to get interval of max error = 0.5 or less\n",
    "def find_n(t,p,q,error):\n",
    "  return (p*q) / (error/t)**2\n",
    "\n",
    "p = data[\"loss\"].mean() #sample proportion\n",
    "q = 1-p #q is the probability of a failure in any one trial.)\n",
    "t0 = st.norm.ppf(1-((1-0.80)/2))\n",
    "print(t0)\n",
    "n_temp = find_n(t0,p,q,error)\n",
    "n_temp"
   ]
  },
  {
   "cell_type": "code",
   "execution_count": 65,
   "metadata": {},
   "outputs": [
    {
     "name": "stdout",
     "output_type": "stream",
     "text": [
      "1.2818215572027967\n"
     ]
    },
    {
     "data": {
      "text/plain": [
       "3138.592343308521"
      ]
     },
     "execution_count": 65,
     "metadata": {},
     "output_type": "execute_result"
    }
   ],
   "source": [
    "t1 = st.t.ppf(1-((1-0.80)/2),n_temp-1)\n",
    "print(t1)\n",
    "n_temp = find_n(t1,p,q,error)\n",
    "n_temp"
   ]
  },
  {
   "cell_type": "code",
   "execution_count": 66,
   "metadata": {},
   "outputs": [
    {
     "name": "stdout",
     "output_type": "stream",
     "text": [
      "1.2818214434167239\n"
     ]
    },
    {
     "data": {
      "text/plain": [
       "3138.5917860888685"
      ]
     },
     "execution_count": 66,
     "metadata": {},
     "output_type": "execute_result"
    }
   ],
   "source": [
    "t2 = st.t.ppf(1-((1-0.80)/2),n_temp-1)\n",
    "print(t2)\n",
    "n_temp = find_n(t2,p,q,error)\n",
    "n_temp"
   ]
  },
  {
   "cell_type": "code",
   "execution_count": 67,
   "metadata": {},
   "outputs": [
    {
     "name": "stdout",
     "output_type": "stream",
     "text": [
      "1.281821443464663\n"
     ]
    },
    {
     "data": {
      "text/plain": [
       "3138.5917863236305"
      ]
     },
     "execution_count": 67,
     "metadata": {},
     "output_type": "execute_result"
    }
   ],
   "source": [
    "t3 = st.t.ppf(1-((1-0.80)/2),n_temp-1)\n",
    "print(t3)\n",
    "n_temp = find_n(t3,p,q,error)\n",
    "n_temp"
   ]
  },
  {
   "cell_type": "code",
   "execution_count": null,
   "metadata": {},
   "outputs": [],
   "source": [
    "#Done, not much changing any more: \n",
    "# n should be >= 3139, if we want the error only at 1% and a confidence level of 80%."
   ]
  },
  {
   "cell_type": "markdown",
   "metadata": {},
   "source": [
    "## Bonus Challenge\n",
    "\n",
    "Let's consider the following problem:\n",
    "\n",
    "Build a confidence interval of 94% for the real difference between the durations of two brands of spotlights, if a sample of 40 spotlights taken randomly from the first mark gave an average duration of 418 hours, and a sample of 50 bulbs of another brand gave a duration average of 402 hours. The standard deviations of the two\n",
    "populations are 26 hours and 22 hours, respectively.\n",
    "\n",
    "Sometimes, we will be interested in the difference of two different groups of random variables. We can also build a confidence interval for that! We have some different cases regarding the variance but for this specific case (the variance are different and known), we have that:\n",
    "\n",
    "$$\\overline{X} - \\overline{Y}  \\sim N(\\mu_{X} - \\mu_{Y} , \\sqrt{\\frac{\\sigma_{X}^2}{n_X}+\\frac{\\sigma_{Y}^2}{n_Y}})$$\n",
    "\n",
    "Solve the problem with this information."
   ]
  },
  {
   "cell_type": "code",
   "execution_count": null,
   "metadata": {},
   "outputs": [],
   "source": [
    "# your code here"
   ]
  }
 ],
 "metadata": {
  "kernelspec": {
   "display_name": "Python 3 (ipykernel)",
   "language": "python",
   "name": "python3"
  },
  "language_info": {
   "codemirror_mode": {
    "name": "ipython",
    "version": 3
   },
   "file_extension": ".py",
   "mimetype": "text/x-python",
   "name": "python",
   "nbconvert_exporter": "python",
   "pygments_lexer": "ipython3",
   "version": "3.9.13"
  }
 },
 "nbformat": 4,
 "nbformat_minor": 2
}
