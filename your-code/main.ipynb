{
 "cells": [
  {
   "cell_type": "markdown",
   "metadata": {},
   "source": [
    "# Confidence Intervals"
   ]
  },
  {
   "cell_type": "code",
   "execution_count": 8,
   "metadata": {},
   "outputs": [],
   "source": [
    "import pandas as pd\n",
    "import numpy as np\n",
    "import scipy.stats as st\n",
    "import math "
   ]
  },
  {
   "cell_type": "markdown",
   "metadata": {},
   "source": [
    "## Challenge 1\n",
    "We want to estimate the average size of the men of a country with a confidence level of 80%. Assuming that the standard deviation of the sizes in the population is 4, get the confidence interval with a sample of men selected randomly, whose heights are:\n",
    "\n",
    "````\n",
    "heights = [167, 167, 168, 168, 168, 169, 171, 172, 173, 175, 175, 175, 177, 182, 195]\n",
    "````\n",
    "\n",
    "**Hint**: function `stats.norm.interval` from `scipy` can help you get through this exercise. "
   ]
  },
  {
   "cell_type": "code",
   "execution_count": 2,
   "metadata": {},
   "outputs": [],
   "source": [
    "heights = [167, 167, 168, 168, 168, 169, 171, 172, 173, 175, 175, 175, 177, 182, 195]"
   ]
  },
  {
   "cell_type": "code",
   "execution_count": 4,
   "metadata": {},
   "outputs": [
    {
     "name": "stdout",
     "output_type": "stream",
     "text": [
      "Confidence Interval: (171.0323076132764, 175.90102572005694)\n"
     ]
    }
   ],
   "source": [
    "sample_mean = np.mean(heights)\n",
    "sample_std = np.std(heights, ddof=1)  \n",
    "confidence_level = 0.80\n",
    "sample_size = len(heights)\n",
    "margin_of_error = st.norm.ppf((1 + confidence_level) / 2) * (sample_std / np.sqrt(sample_size))\n",
    "confidence_interval = (sample_mean - margin_of_error, sample_mean + margin_of_error)\n",
    "print(\"Confidence Interval:\", confidence_interval)"
   ]
  },
  {
   "cell_type": "markdown",
   "metadata": {},
   "source": [
    "## Challenge 2 \n",
    "In a sample of 105 shops selected randomly from an area, we note that 27 of them have had losses in this month. Get an interval for the proportion of businesses in the area with losses to a confidence level of 80% and a confidence level of 90%.\n",
    "\n",
    "**Hint**: function `stats.norm.interval` from `scipy` can help you get through this exercise. "
   ]
  },
  {
   "cell_type": "code",
   "execution_count": 6,
   "metadata": {},
   "outputs": [
    {
     "name": "stdout",
     "output_type": "stream",
     "text": [
      "Confidence Interval (level 0.8): (0.20248138545542083, 0.3118043288302934)\n",
      "Confidence Interval (level 0.9): (0.18698561776452813, 0.3273000965211861)\n"
     ]
    }
   ],
   "source": [
    "total_shops = 105\n",
    "shops_with_losses = 27\n",
    "sample_proportion = shops_with_losses / total_shops\n",
    "confidence_levels = [0.80, 0.90]\n",
    "\n",
    "for confidence_level in confidence_levels:\n",
    "  \n",
    "    margin_of_error = st.norm.ppf((1 + confidence_level) / 2) * np.sqrt((sample_proportion * (1 - sample_proportion)) / total_shops)\n",
    "    confidence_interval = (sample_proportion - margin_of_error, sample_proportion + margin_of_error)\n",
    "    print(f\"Confidence Interval (level {confidence_level}):\", confidence_interval)"
   ]
  },
  {
   "cell_type": "markdown",
   "metadata": {},
   "source": [
    "## Bonus Challenge\n",
    "The error level or sampling error for the first challenge is given by the following expression:\n",
    "$$Error = z_{\\frac{\\alpha}{2}}\\frac{\\sigma}{\\sqrt n}$$\n",
    "Where z represents the value for N(0,1)\n",
    "\n",
    "\n",
    "Suppose that with the previous data of challenge 1, and with a confidence level of\n",
    "99% (that is, almost certainly) we want to estimate the average population size, so that the error level committed is not greater than half a centimeter.\n",
    "\n",
    "#### 1.- Determine what size the selected sample of men should be."
   ]
  },
  {
   "cell_type": "code",
   "execution_count": 7,
   "metadata": {},
   "outputs": [],
   "source": [
    "heights = [167, 167, 168, 168, 168, 169, 171, 172, 173, 175, 175, 175, 177, 182, 195]"
   ]
  },
  {
   "cell_type": "code",
   "execution_count": 9,
   "metadata": {},
   "outputs": [
    {
     "name": "stdout",
     "output_type": "stream",
     "text": [
      "Required Sample Size: 425\n"
     ]
    }
   ],
   "source": [
    "z_alpha_2 = 2.576  \n",
    "sigma = 4         \n",
    "error_level = 0.5  \n",
    "required_sample_size = math.ceil((z_alpha_2 * sigma / error_level)**2)\n",
    "print(\"Required Sample Size:\", required_sample_size)"
   ]
  },
  {
   "cell_type": "markdown",
   "metadata": {},
   "source": [
    "#### 2.- For the second challenge, we have the following error:\n",
    "$$ Error = z_{\\frac{\\alpha}{2}}\\sqrt{\\frac{p\\times q}{n}} $$\n",
    "#### Determine the sample size required to not exceed an error of 1% with a confidence of 80%."
   ]
  },
  {
   "cell_type": "code",
   "execution_count": 10,
   "metadata": {},
   "outputs": [
    {
     "name": "stdout",
     "output_type": "stream",
     "text": [
      "Required Sample Size: 3140\n"
     ]
    }
   ],
   "source": [
    "z_alpha_2 = 1.282  \n",
    "error_level = 0.01  \n",
    "n_total = 105\n",
    "n_losses = 27\n",
    "p = n_losses / n_total\n",
    "q = 1 - p\n",
    "required_sample_size = math.ceil((z_alpha_2 ** 2 * p * q) / (error_level ** 2))\n",
    "print(\"Required Sample Size:\", required_sample_size)"
   ]
  },
  {
   "cell_type": "markdown",
   "metadata": {},
   "source": [
    "## Bonus Challenge\n",
    "\n",
    "Let's consider the following problem:\n",
    "\n",
    "Build a confidence interval of 94% for the real difference between the durations of two brands of spotlights, if a sample of 40 spotlights taken randomly from the first mark gave an average duration of 418 hours, and a sample of 50 bulbs of another brand gave a duration average of 402 hours. The standard deviations of the two\n",
    "populations are 26 hours and 22 hours, respectively.\n",
    "\n",
    "Sometimes, we will be interested in the difference of two different groups of random variables. We can also build a confidence interval for that! We have some different cases regarding the variance but for this specific case (the variance are different and known), we have that:\n",
    "\n",
    "$$\\overline{X} - \\overline{Y}  \\sim N(\\mu_{X} - \\mu_{Y} , \\sqrt{\\frac{\\sigma_{X}^2}{n_X}+\\frac{\\sigma_{Y}^2}{n_Y}})$$\n",
    "\n",
    "Solve the problem with this information."
   ]
  },
  {
   "cell_type": "code",
   "execution_count": 12,
   "metadata": {},
   "outputs": [
    {
     "name": "stdout",
     "output_type": "stream",
     "text": [
      "Confidence Interval: (6.303419026585921, 25.69658097341408)\n"
     ]
    }
   ],
   "source": [
    "mean_X = 418\n",
    "mean_Y = 402\n",
    "stddev_X = 26\n",
    "stddev_Y = 22\n",
    "sample_size_X = 40\n",
    "sample_size_Y = 50\n",
    "confidence_level = 0.94\n",
    "SE = math.sqrt((stddev_X**2 / sample_size_X) + (stddev_Y**2 / sample_size_Y))\n",
    "z_score = abs(st.norm.ppf((1 + confidence_level) / 2))\n",
    "margin_of_error = z_score * SE\n",
    "confidence_interval = (mean_X - mean_Y - margin_of_error, mean_X - mean_Y + margin_of_error)\n",
    "print(\"Confidence Interval:\", confidence_interval)"
   ]
  }
 ],
 "metadata": {
  "kernelspec": {
   "display_name": "Python 3 (ipykernel)",
   "language": "python",
   "name": "python3"
  },
  "language_info": {
   "codemirror_mode": {
    "name": "ipython",
    "version": 3
   },
   "file_extension": ".py",
   "mimetype": "text/x-python",
   "name": "python",
   "nbconvert_exporter": "python",
   "pygments_lexer": "ipython3",
   "version": "3.10.9"
  }
 },
 "nbformat": 4,
 "nbformat_minor": 2
}
