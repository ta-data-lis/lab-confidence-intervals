{
 "cells": [
  {
   "attachments": {},
   "cell_type": "markdown",
   "metadata": {},
   "source": [
    "# Confidence Intervals"
   ]
  },
  {
   "cell_type": "code",
   "execution_count": 5,
   "metadata": {},
   "outputs": [],
   "source": [
    "import pandas as pd\n",
    "import numpy as np\n",
    "import scipy.stats as stats"
   ]
  },
  {
   "attachments": {},
   "cell_type": "markdown",
   "metadata": {},
   "source": [
    "## Challenge 1\n",
    "We want to estimate the average size of the men of a country with a confidence level of 80%. Assuming that the standard deviation of the sizes in the population is 4, get the confidence interval with a sample of men selected randomly, whose heights are:\n",
    "\n",
    "````\n",
    "heights = [167, 167, 168, 168, 168, 169, 171, 172, 173, 175, 175, 175, 177, 182, 195]\n",
    "````\n",
    "\n",
    "**Hint**: function `stats.norm.interval` from `scipy` can help you get through this exercise. "
   ]
  },
  {
   "cell_type": "code",
   "execution_count": 6,
   "metadata": {},
   "outputs": [
    {
     "name": "stdout",
     "output_type": "stream",
     "text": [
      "Confidence Interval: (172.14308590115726, 174.79024743217607)\n"
     ]
    }
   ],
   "source": [
    "heights = [167, 167, 168, 168, 168, 169, 171, 172, 173, 175, 175, 175, 177, 182, 195]\n",
    "sample_mean = np.mean(heights)\n",
    "sample_std = np.std(heights, ddof=1)\n",
    "population_std = 4\n",
    "n = len(heights)\n",
    "confidence_level = 0.80\n",
    "interval = stats.norm.interval(confidence_level, loc=sample_mean, scale=population_std / np.sqrt(n))\n",
    "\n",
    "print(\"Confidence Interval:\", interval)"
   ]
  },
  {
   "attachments": {},
   "cell_type": "markdown",
   "metadata": {},
   "source": [
    "## Challenge 2 \n",
    "In a sample of 105 shops selected randomly from an area, we note that 27 of them have had losses in this month. Get an interval for the proportion of businesses in the area with losses to a confidence level of 80% and a confidence level of 90%.\n",
    "\n",
    "**Hint**: function `stats.norm.interval` from `scipy` can help you get through this exercise. "
   ]
  },
  {
   "cell_type": "code",
   "execution_count": 9,
   "metadata": {},
   "outputs": [
    {
     "name": "stdout",
     "output_type": "stream",
     "text": [
      "Confidence 0.80: (0.17205552221725234, 0.3422301920684619)\n"
     ]
    }
   ],
   "source": [
    "sample_size = 105\n",
    "shops_with_losses = 27\n",
    "sample_proportion = shops_with_losses / sample_size\n",
    "confidence_80 = 0.80\n",
    "interval = stats.norm.interval(confidence_80, loc=sample_proportion, scale=sample_proportion / np.sqrt(n))\n",
    "print(\"For 0.80:\", interval)"
   ]
  },
  {
   "cell_type": "code",
   "execution_count": 13,
   "metadata": {},
   "outputs": [
    {
     "name": "stdout",
     "output_type": "stream",
     "text": [
      "For 0.90: (0.1479344450720242, 0.36635126921369)\n"
     ]
    }
   ],
   "source": [
    "sample_size = 105\n",
    "shops_with_losses = 27\n",
    "sample_proportion = shops_with_losses / sample_size\n",
    "confidence_90 = 0.90\n",
    "population_std = 105\n",
    "interval = stats.norm.interval(confidence_90, loc=sample_proportion, scale=sample_proportion / np.sqrt(n))\n",
    "print(\"For 0.90:\", interval)"
   ]
  },
  {
   "attachments": {},
   "cell_type": "markdown",
   "metadata": {},
   "source": [
    "## Bonus Challenge\n",
    "The error level or sampling error for the first challenge is given by the following expression:\n",
    "$$Error = z_{\\frac{\\alpha}{2}}\\frac{\\sigma}{\\sqrt n}$$\n",
    "Where z represents the value for N(0,1)\n",
    "\n",
    "\n",
    "Suppose that with the previous data of challenge 1, and with a confidence level of\n",
    "99% (that is, almost certainly) we want to estimate the average population size, so that the error level committed is not greater than half a centimeter.\n",
    "\n",
    "#### 1.- Determine what size the selected sample of men should be."
   ]
  },
  {
   "cell_type": "code",
   "execution_count": 19,
   "metadata": {},
   "outputs": [
    {
     "name": "stdout",
     "output_type": "stream",
     "text": [
      "Size: 424\n"
     ]
    }
   ],
   "source": [
    "confidence_level = 0.99\n",
    "sigma = 4\n",
    "error = 0.5\n",
    "\n",
    "z_alpha_half = stats.norm.ppf(1 - ((1 - confidence_level) / 2))\n",
    "sample_size = ((z_alpha_half * sigma) / error) ** 2\n",
    "\n",
    "print(\"Size:\", int(sample_size))\n",
    "\n"
   ]
  },
  {
   "attachments": {},
   "cell_type": "markdown",
   "metadata": {},
   "source": [
    "#### 2.- For the second challenge, we have the following error:\n",
    "$$ Error = z_{\\frac{\\alpha}{2}}\\sqrt{\\frac{p\\times q}{n}} $$\n",
    "#### Determine the sample size required to not exceed an error of 1% with a confidence of 80%."
   ]
  },
  {
   "cell_type": "code",
   "execution_count": null,
   "metadata": {},
   "outputs": [],
   "source": [
    "import math\n",
    "\n",
    "def calculate_sample_size(error, confidence, p=0.5):\n",
    "    z = 0.0\n",
    "    if confidence == 0.8:\n",
    "        z = 1.28155\n",
    "    elif confidence == 0.9:\n",
    "        z = 1.645\n",
    "    elif confidence == 0.95:\n",
    "        z = 1.96\n",
    "    elif confidence == 0.99:\n",
    "        z = 2.576\n",
    "    else:\n",
    "        raise ValueError(\"Invalid confidence level. Please choose from 0.8, 0.9, 0.95, or 0.99.\")\n",
    "    \n",
    "        n = (z**2 * p * (1 - p)) / error**2\n",
    "    sample_size = math.ceil(n)  \n",
    "    return sample_size\n",
    "\n",
    "error = 0.01  \n",
    "confidence = 0.8 \n",
    "sample_size = calculate_sample_size(error, confidence)\n",
    "print(\"Required sample size:\", sample_size)"
   ]
  },
  {
   "attachments": {},
   "cell_type": "markdown",
   "metadata": {},
   "source": [
    "## Bonus Challenge\n",
    "\n",
    "Let's consider the following problem:\n",
    "\n",
    "Build a confidence interval of 94% for the real difference between the durations of two brands of spotlights, if a sample of 40 spotlights taken randomly from the first mark gave an average duration of 418 hours, and a sample of 50 bulbs of another brand gave a duration average of 402 hours. The standard deviations of the two\n",
    "populations are 26 hours and 22 hours, respectively.\n",
    "\n",
    "Sometimes, we will be interested in the difference of two different groups of random variables. We can also build a confidence interval for that! We have some different cases regarding the variance but for this specific case (the variance are different and known), we have that:\n",
    "\n",
    "$$\\overline{X} - \\overline{Y}  \\sim N(\\mu_{X} - \\mu_{Y} , \\sqrt{\\frac{\\sigma_{X}^2}{n_X}+\\frac{\\sigma_{Y}^2}{n_Y}})$$\n",
    "\n",
    "Solve the problem with this information."
   ]
  },
  {
   "cell_type": "code",
   "execution_count": 4,
   "metadata": {},
   "outputs": [
    {
     "name": "stdout",
     "output_type": "stream",
     "text": [
      "Critical z-value: 1.8807936081512509\n",
      "Confidence Interval: (6.3023549570011586, 25.697645042998843)\n"
     ]
    }
   ],
   "source": [
    "from scipy.stats import norm\n",
    "\n",
    "conf_interval = 0.94\n",
    "z = norm.ppf((1 + conf_interval) / 2)\n",
    "\n",
    "print(f\"Critical z-value: {z}\")\n",
    "\n",
    "\n",
    "\n",
    "X_mean = 418\n",
    "Y_mean = 402\n",
    "\n",
    "n_X = 40\n",
    "n_Y = 50\n",
    "\n",
    "sigma_X = 26\n",
    "sigma_Y = 22\n",
    "\n",
    "z = 1.881\n",
    "\n",
    "\n",
    "standard_error = math.sqrt((sigma_X**2 / n_X) + (sigma_Y**2 / n_Y))\n",
    "\n",
    "lower_bound = X_mean - Y_mean - (z * standard_error)\n",
    "upper_bound = X_mean - Y_mean + (z * standard_error)\n",
    "\n",
    "print(f\"Confidence Interval: ({lower_bound}, {upper_bound})\")"
   ]
  },
  {
   "cell_type": "code",
   "execution_count": null,
   "metadata": {},
   "outputs": [],
   "source": []
  }
 ],
 "metadata": {
  "kernelspec": {
   "display_name": "Python 3",
   "language": "python",
   "name": "python3"
  },
  "language_info": {
   "codemirror_mode": {
    "name": "ipython",
    "version": 3
   },
   "file_extension": ".py",
   "mimetype": "text/x-python",
   "name": "python",
   "nbconvert_exporter": "python",
   "pygments_lexer": "ipython3",
   "version": "3.11.2"
  }
 },
 "nbformat": 4,
 "nbformat_minor": 2
}
