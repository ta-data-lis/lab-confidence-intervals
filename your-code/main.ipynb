{
 "cells": [
  {
   "cell_type": "markdown",
   "metadata": {},
   "source": [
    "# Confidence Intervals"
   ]
  },
  {
   "cell_type": "code",
   "execution_count": 1,
   "metadata": {},
   "outputs": [],
   "source": [
    "# Libraries\n",
    "import numpy as np\n",
    "from scipy.stats import norm\n",
    "from scipy.stats import t# Libraries"
   ]
  },
  {
   "cell_type": "markdown",
   "metadata": {},
   "source": [
    "## Challenge 1\n",
    "We want to estimate the average size of the men of a country with a confidence level of 80%. Assuming that the standard deviation of the sizes in the population is 4, get the confidence interval with a sample of men selected randomly, whose heights are:\n",
    "\n",
    "````\n",
    "heights = [167, 167, 168, 168, 168, 169, 171, 172, 173, 175, 175, 175, 177, 182, 195]\n",
    "````\n",
    "\n",
    "**Hint**: function `stats.norm.interval` from `scipy` can help you get through this exercise. "
   ]
  },
  {
   "cell_type": "code",
   "execution_count": 2,
   "metadata": {},
   "outputs": [
    {
     "data": {
      "text/plain": [
       "(172.14308590115726, 174.79024743217607)"
      ]
     },
     "execution_count": 2,
     "metadata": {},
     "output_type": "execute_result"
    }
   ],
   "source": [
    "# your code here\n",
    "heights = [167, 167, 168, 168, 168, 169, 171, 172, 173, 175, 175, 175, 177, 182, 195]\n",
    "std_pop = 4\n",
    "\n",
    "x_bar = np.mean(heights)\n",
    "standard_error = std_pop/np.sqrt(len(heights))\n",
    "\n",
    "normal = norm(x_bar, standard_error)\n",
    "\n",
    "confidence_interval = normal.interval(0.80)\n",
    "confidence_interval"
   ]
  },
  {
   "cell_type": "markdown",
   "metadata": {},
   "source": [
    "## Challenge 2 \n",
    "In a sample of 105 shops selected randomly from an area, we note that 27 of them have had losses in this month. Get an interval for the proportion of businesses in the area with losses to a confidence level of 80% and a confidence level of 90%.\n",
    "\n",
    "**Hint**: function `stats.norm.interval` from `scipy` can help you get through this exercise. "
   ]
  },
  {
   "cell_type": "code",
   "execution_count": 3,
   "metadata": {},
   "outputs": [
    {
     "name": "stdout",
     "output_type": "stream",
     "text": [
      "confidence level of 80%: -1.960470345602015 2.474756059887729\n",
      "confidence level of 90%: -3.1196560618733056 3.63394177615902\n"
     ]
    }
   ],
   "source": [
    "# your code here\n",
    "sample_size = 105\n",
    "sample_losses = 27\n",
    "sample_mean = sample_losses/sample_size\n",
    "\n",
    "# As our n>30, we will assume our pop.std ~ sample.std\n",
    "\n",
    "standard_error = sample_losses/np.sqrt(sample_size)\n",
    "normal = norm(sample_mean, standard_error)\n",
    "\n",
    "lower_90 = normal.isf(0.9)\n",
    "upper_10 = normal.isf(0.1)\n",
    "\n",
    "lower_80 = normal.isf(0.8)\n",
    "upper_20 = normal.isf(0.2)\n",
    "\n",
    "print('confidence level of 80%:',lower_80,upper_20)\n",
    "print('confidence level of 90%:',lower_90,upper_10)"
   ]
  },
  {
   "cell_type": "markdown",
   "metadata": {},
   "source": [
    "## Bonus Challenge\n",
    "The error level or sampling error for the first challenge is given by the following expression:\n",
    "$$Error = z_{\\frac{\\alpha}{2}}\\frac{\\sigma}{\\sqrt n}$$\n",
    "Where z represents the value for N(0,1)\n",
    "\n",
    "\n",
    "Suppose that with the previous data of challenge 1, and with a confidence level of\n",
    "99% (that is, almost certainly) we want to estimate the average population size, so that the error level committed is not greater than half a centimeter.\n",
    "\n",
    "#### 1.- Determine what size the selected sample of men should be."
   ]
  },
  {
   "cell_type": "code",
   "execution_count": 4,
   "metadata": {},
   "outputs": [
    {
     "data": {
      "text/plain": [
       "425"
      ]
     },
     "execution_count": 4,
     "metadata": {},
     "output_type": "execute_result"
    }
   ],
   "source": [
    "# your code here\n",
    "# Necessary Sample Size = (Z-score)² * StdDev*(1-StdDev) / (margin of error)²\n",
    "z = norm.interval(0.99)[0]\n",
    "error = 0.5\n",
    "std = 4\n",
    "\n",
    "n = (std/(error/z))**2\n",
    "round(n)"
   ]
  },
  {
   "cell_type": "markdown",
   "metadata": {},
   "source": [
    "#### 2.- For the second challenge, we have the following error:\n",
    "$$ Error = z_{\\frac{\\alpha}{2}}\\sqrt{\\frac{p\\times q}{n}} $$\n",
    "#### Determine the sample size required to not exceed an error of 1% with a confidence of 80%."
   ]
  },
  {
   "cell_type": "code",
   "execution_count": 5,
   "metadata": {},
   "outputs": [
    {
     "data": {
      "text/plain": [
       "3137"
      ]
     },
     "execution_count": 5,
     "metadata": {},
     "output_type": "execute_result"
    }
   ],
   "source": [
    "# your code here\n",
    "z = norm.interval(0.8)[0]\n",
    "error = 0.01\n",
    "std = 4\n",
    "\n",
    "p = 27/105 #propability\n",
    "q = 1-p\n",
    "\n",
    "n = p*q/(error/z)**2\n",
    "round(n)"
   ]
  },
  {
   "cell_type": "markdown",
   "metadata": {},
   "source": [
    "## Bonus Challenge\n",
    "\n",
    "Let's consider the following problem:\n",
    "\n",
    "Build a confidence interval of 94% for the real difference between the durations of two brands of spotlights, if a sample of 40 spotlights taken randomly from the first mark gave an average duration of 418 hours, and a sample of 50 bulbs of another brand gave a duration average of 402 hours. The standard deviations of the two\n",
    "populations are 26 hours and 22 hours, respectively.\n",
    "\n",
    "Sometimes, we will be interested in the difference of two different groups of random variables. We can also build a confidence interval for that! We have some different cases regarding the variance but for this specific case (the variance are different and known), we have that:\n",
    "\n",
    "$$\\overline{X} - \\overline{Y}  \\sim N(\\mu_{X} - \\mu_{Y} , \\sqrt{\\frac{\\sigma_{X}^2}{n_X}+\\frac{\\sigma_{Y}^2}{n_Y}})$$\n",
    "\n",
    "Solve the problem with this information."
   ]
  },
  {
   "cell_type": "code",
   "execution_count": 6,
   "metadata": {},
   "outputs": [
    {
     "name": "stdout",
     "output_type": "stream",
     "text": [
      "14.05469859220471 17.945301407795288\n"
     ]
    }
   ],
   "source": [
    "# this is my solution, that I googled\n",
    "z = norm.interval(0.94)[0]\n",
    "\n",
    "mean1 = 418\n",
    "std1 = 26\n",
    "n1 = 40\n",
    "\n",
    "mean2 = 402\n",
    "std2 = 22\n",
    "n2 = 50\n",
    "\n",
    "sp2 = ((n1-1)*std1 + (n2-1)*std2) / (n1+n2-2)\n",
    "\n",
    "# Confidence interval = (x1–x2) +/- t*√((sp2/n1) + (sp2/n2))\n",
    "lower = (mean1 - mean2) + z * np.sqrt((sp2/n1) + (sp2/n2))\n",
    "upper = (mean1 - mean2) - z * np.sqrt((sp2/n1) + (sp2/n2))\n",
    "\n",
    "print(lower,upper)"
   ]
  },
  {
   "cell_type": "code",
   "execution_count": null,
   "metadata": {},
   "outputs": [],
   "source": []
  },
  {
   "cell_type": "code",
   "execution_count": null,
   "metadata": {},
   "outputs": [],
   "source": []
  }
 ],
 "metadata": {
  "kernelspec": {
   "display_name": "Python 3 (ipykernel)",
   "language": "python",
   "name": "python3"
  },
  "language_info": {
   "codemirror_mode": {
    "name": "ipython",
    "version": 3
   },
   "file_extension": ".py",
   "mimetype": "text/x-python",
   "name": "python",
   "nbconvert_exporter": "python",
   "pygments_lexer": "ipython3",
   "version": "3.10.4"
  }
 },
 "nbformat": 4,
 "nbformat_minor": 2
}
