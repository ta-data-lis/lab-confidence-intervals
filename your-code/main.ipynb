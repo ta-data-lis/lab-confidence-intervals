{
 "cells": [
  {
   "cell_type": "markdown",
   "metadata": {},
   "source": [
    "# Confidence Intervals"
   ]
  },
  {
   "cell_type": "code",
   "execution_count": 1,
   "metadata": {},
   "outputs": [],
   "source": [
    "# Libraries\n",
    "import numpy as np\n",
    "import pandas as pd\n",
    "import matplotlib.pyplot as plt\n",
    "import seaborn as sns\n",
    "import scipy.stats as stat\n",
    "from scipy.stats import ttest_1samp, ttest_rel, ttest_ind"
   ]
  },
  {
   "cell_type": "markdown",
   "metadata": {},
   "source": [
    "## Challenge 1\n",
    "We want to estimate the average size of the men of a country with a confidence level of 80%. Assuming that the standard deviation of the sizes in the population is 4, get the confidence interval with a sample of men selected randomly, whose heights are:\n",
    "\n",
    "````\n",
    "heights = [167, 167, 168, 168, 168, 169, 171, 172, 173, 175, 175, 175, 177, 182, 195]\n",
    "````\n",
    "\n",
    "**Hint**: function `stats.norm.interval` from `scipy` can help you get through this exercise. "
   ]
  },
  {
   "cell_type": "code",
   "execution_count": 27,
   "metadata": {},
   "outputs": [
    {
     "name": "stdout",
     "output_type": "stream",
     "text": [
      "( 168.34046040448825 , 178.59287292884508 )\n"
     ]
    }
   ],
   "source": [
    "# your code here\n",
    "heights = [167, 167, 168, 168, 168, 169, 171, 172, 173, 175, 175, 175, 177, 182, 195]\n",
    "stdev = 4\n",
    "mean_heights = sum(heights)/len(heights) #173.47\n",
    "z = stat.norm.interval(0.8) #(-1.28, 1.28)\n",
    "\n",
    "R1 = mean_heights - (z[1]*stdev)\n",
    "R2 = mean_heights + (z[1]*stdev)\n",
    "\n",
    "print('(',R1,',',R2,')')\n",
    "#does this means that I'm saying, with 80% confidence, that men have an average size between 168.34 and 178.59?"
   ]
  },
  {
   "cell_type": "markdown",
   "metadata": {},
   "source": [
    "## Challenge 2 \n",
    "In a sample of 105 shops selected randomly from an area, we note that 27 of them have had losses in this month. Get an interval for the proportion of businesses in the area with losses to a confidence level of 80% and a confidence level of 90%.\n",
    "\n",
    "**Hint**: function `stats.norm.interval` from `scipy` can help you get through this exercise. "
   ]
  },
  {
   "cell_type": "code",
   "execution_count": 46,
   "metadata": {},
   "outputs": [
    {
     "name": "stdout",
     "output_type": "stream",
     "text": [
      "It can be concluded, with a 80% confidence level, that the percentage of shops in the area with losses in their business was between ( 20.248138545542083 , 31.18043288302934 )%\n",
      "\n",
      "\n",
      "It can be concluded, with a 90% confidence level, that the percentage of shops in the area with losses in their business was between( 18.698561776452813 , 32.73000965211861 )%\n"
     ]
    }
   ],
   "source": [
    "'''\n",
    "estimation and population proportion:\n",
    "https://en.wikipedia.org/wiki/Population_proportion#Estimation\n",
    "\n",
    "Assuming that:\n",
    "- sample was obtained randomly\n",
    "- normal distribution\n",
    "- independent observations\n",
    "\n",
    "We can do:\n",
    "p +- z * ((p(1-p))/n)**0.5)\n",
    "'''\n",
    "\n",
    "# your code here\n",
    "\n",
    "n=105\n",
    "p=27/105 #sample proportion #0.257\n",
    "z_80=stat.norm.interval(0.8) #(-1.28, 1.28)\n",
    "z_90=stat.norm.interval(0.9) #(-1.64, 1.64)\n",
    "\n",
    "#CI=80%\n",
    "p_80_1 = p - z_80[1]*(((p*(1-p))/105)**0.5)\n",
    "p_80_2 = p + z_80[1]*(((p*(1-p))/105)**0.5)\n",
    "\n",
    "#CI=90%\n",
    "p_90_1 = p - z_90[1]*(((p*(1-p))/105)**0.5)\n",
    "p_90_2 = p + z_90[1]*(((p*(1-p))/105)**0.5)\n",
    "\n",
    "\n",
    "print('It can be concluded, with a 80% confidence level, that the percentage of shops in the area with losses in their business was between (',p_80_1*100,',',p_80_2*100,')%')\n",
    "print('\\n')\n",
    "print('It can be concluded, with a 90% confidence level, that the percentage of shops in the area with losses in their business was between(',p_90_1*100,',',p_90_2*100,')%')"
   ]
  },
  {
   "cell_type": "markdown",
   "metadata": {},
   "source": [
    "## Bonus Challenge\n",
    "The error level or sampling error for the first challenge is given by the following expression:\n",
    "$$Error = z_{\\frac{\\alpha}{2}}\\frac{\\sigma}{\\sqrt n}$$\n",
    "Where z represents the value for N(0,1)\n",
    "\n",
    "\n",
    "Suppose that with the previous data of challenge 1, and with a confidence level of\n",
    "99% (that is, almost certainly) we want to estimate the average population size, so that the error level committed is not greater than half a centimeter.\n",
    "\n",
    "#### 1.- Determine what size the selected sample of men should be."
   ]
  },
  {
   "cell_type": "code",
   "execution_count": null,
   "metadata": {},
   "outputs": [],
   "source": [
    "# your code here"
   ]
  },
  {
   "cell_type": "markdown",
   "metadata": {},
   "source": [
    "#### 2.- For the second challenge, we have the following error:\n",
    "$$ Error = z_{\\frac{\\alpha}{2}}\\sqrt{\\frac{p\\times q}{n}} $$\n",
    "#### Determine the sample size required to not exceed an error of 1% with a confidence of 80%."
   ]
  },
  {
   "cell_type": "code",
   "execution_count": null,
   "metadata": {},
   "outputs": [],
   "source": [
    "# your code here"
   ]
  },
  {
   "cell_type": "markdown",
   "metadata": {},
   "source": [
    "## Bonus Challenge\n",
    "\n",
    "Let's consider the following problem:\n",
    "\n",
    "Build a confidence interval of 94% for the real difference between the durations of two brands of spotlights, if a sample of 40 spotlights taken randomly from the first mark gave an average duration of 418 hours, and a sample of 50 bulbs of another brand gave a duration average of 402 hours. The standard deviations of the two\n",
    "populations are 26 hours and 22 hours, respectively.\n",
    "\n",
    "Sometimes, we will be interested in the difference of two different groups of random variables. We can also build a confidence interval for that! We have some different cases regarding the variance but for this specific case (the variance are different and known), we have that:\n",
    "\n",
    "$$\\overline{X} - \\overline{Y}  \\sim N(\\mu_{X} - \\mu_{Y} , \\sqrt{\\frac{\\sigma_{X}^2}{n_X}+\\frac{\\sigma_{Y}^2}{n_Y}})$$\n",
    "\n",
    "Solve the problem with this information."
   ]
  },
  {
   "cell_type": "code",
   "execution_count": null,
   "metadata": {},
   "outputs": [],
   "source": [
    "# your code here"
   ]
  }
 ],
 "metadata": {
  "kernelspec": {
   "display_name": "Python 3",
   "language": "python",
   "name": "python3"
  },
  "language_info": {
   "codemirror_mode": {
    "name": "ipython",
    "version": 3
   },
   "file_extension": ".py",
   "mimetype": "text/x-python",
   "name": "python",
   "nbconvert_exporter": "python",
   "pygments_lexer": "ipython3",
   "version": "3.6.1"
  }
 },
 "nbformat": 4,
 "nbformat_minor": 2
}
